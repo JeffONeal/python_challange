{
 "cells": [
  {
   "cell_type": "code",
   "execution_count": 1,
   "id": "8b386bea-2429-4f5b-987f-f9b59ddec7b3",
   "metadata": {},
   "outputs": [
    {
     "data": {
      "text/plain": [
       "PosixPath('budget_data.csv')"
      ]
     },
     "execution_count": 1,
     "metadata": {},
     "output_type": "execute_result"
    }
   ],
   "source": [
    "import csv\n",
    "\n",
    "from pathlib import Path\n",
    "budget_data = Path(\"budget_data.csv\")\n",
    "budget_data "
   ]
  },
  {
   "cell_type": "code",
   "execution_count": 2,
   "id": "2e39e048-9e26-4875-a5c2-35347b55c154",
   "metadata": {},
   "outputs": [],
   "source": [
    "count = 0\n",
    "total = 0\n",
    "average = 0\n",
    "minimum = 0\n",
    "maximum = 0\n",
    "net = 0\n",
    "change_list = []\n",
    "net_change = 0\n",
    "total_months = 0\n",
    "net_profit = 0\n",
    "net_change_list = []"
   ]
  },
  {
   "cell_type": "code",
   "execution_count": 22,
   "id": "210d61a4-26f9-4676-8067-08b11de0f27d",
   "metadata": {},
   "outputs": [
    {
     "ename": "StopIteration",
     "evalue": "",
     "output_type": "error",
     "traceback": [
      "\u001b[0;31m---------------------------------------------------------------------------\u001b[0m",
      "\u001b[0;31mStopIteration\u001b[0m                             Traceback (most recent call last)",
      "Input \u001b[0;32mIn [22]\u001b[0m, in \u001b[0;36m<cell line: 1>\u001b[0;34m()\u001b[0m\n\u001b[1;32m      2\u001b[0m reader \u001b[38;5;241m=\u001b[39m csv\u001b[38;5;241m.\u001b[39mreader(file)\n\u001b[1;32m      3\u001b[0m header \u001b[38;5;241m=\u001b[39m \u001b[38;5;28mnext\u001b[39m(reader)\n\u001b[0;32m----> 4\u001b[0m row1 \u001b[38;5;241m=\u001b[39m \u001b[38;5;28;43mnext\u001b[39;49m\u001b[43m(\u001b[49m\u001b[43mreader\u001b[49m\u001b[43m)\u001b[49m\n\u001b[1;32m      5\u001b[0m net_profit \u001b[38;5;241m=\u001b[39m net_profit \u001b[38;5;241m+\u001b[39m \u001b[38;5;28mint\u001b[39m(row1[\u001b[38;5;241m1\u001b[39m])\n\u001b[1;32m      6\u001b[0m previous_net \u001b[38;5;241m=\u001b[39m \u001b[38;5;28mint\u001b[39m(row1[\u001b[38;5;241m1\u001b[39m])\n",
      "\u001b[0;31mStopIteration\u001b[0m: "
     ]
    }
   ],
   "source": [
    "with open(budget_data) as file:\n",
    "    reader = csv.reader(file)\n",
    "    header = next(reader)\n",
    "    row1 = next(reader)\n",
    "    net_profit = net_profit + int(row1[1])\n",
    "    previous_net = int(row1[1])\n",
    "    \n",
    "\n",
    "    for row in reader:\n",
    "        total_months = total_months + 1\n",
    "        count += 1\n",
    "        net_profit = net_profit + int(row[1])\n",
    "   \n",
    "    \n",
    "        # calculating monthly change average\n",
    "        net_change = int(row[1]) - previous_net\n",
    "        previous_net = int(row[1])\n",
    "        net_change_list = net_change_list + [net_change]\n",
    "\n",
    "        print(net_change_list)\n",
    "        \n",
    "\n",
    "        \n",
    "        # average of net change = net_change_list/len(net_change_list)"
   ]
  },
  {
   "cell_type": "code",
   "execution_count": null,
   "id": "cc2ff34b-04da-4178-80da-ed72c13c2689",
   "metadata": {},
   "outputs": [],
   "source": [
    "average_net_change = sum(net_change_list)/len(net_change_list)\n",
    "print(average_net_change)"
   ]
  },
  {
   "cell_type": "code",
   "execution_count": null,
   "id": "bfb0df18-e286-4e84-a8eb-b2e685d9af23",
   "metadata": {},
   "outputs": [],
   "source": [
    "max(net_change_list)"
   ]
  },
  {
   "cell_type": "code",
   "execution_count": null,
   "id": "8b17fcfd-e4c7-4c5e-a6a1-7c45223ab6ed",
   "metadata": {},
   "outputs": [],
   "source": [
    "min(net_change_list)"
   ]
  },
  {
   "cell_type": "code",
   "execution_count": null,
   "id": "08c0c473-e2eb-472a-885f-fee4d86b0013",
   "metadata": {},
   "outputs": [],
   "source": [
    "print(\"--------Profit and Loss Summary---------\")\n",
    "print(f\"Number of months: {count +1}\")\n",
    "print(f\"Total Profit/Loss: {net_profit}\")\n",
    "print(f\"Average Change: {average_net_change}\")\n",
    "print(f\"Largest Profit Increase: {max(net_change_list)}\")\n",
    "print(f\"Largest Loss Decrease: {min(net_change_list)}\")\n",
    "\n"
   ]
  },
  {
   "cell_type": "code",
   "execution_count": null,
   "id": "9cbf9a37-63b2-498f-a393-2a6463525890",
   "metadata": {},
   "outputs": [],
   "source": [
    "\n",
    "output_path = 'budget_data.txt'\n",
    "\n",
    "\n",
    "with open(output_path, 'w') as file:\n",
    "    \n",
    "    file.write(f\"The total months of data was {count+1}, the total profit {net_profit}, the average change in profit and loss was {average_net_change}.  The largest profit in any month was {max(net_change_list)} and the largest loss in any month was {min(net_change_list)}\")\n",
    "\n"
   ]
  },
  {
   "cell_type": "code",
   "execution_count": null,
   "id": "e0b3ab94-d6ff-4640-a85c-449c6c0fd4cb",
   "metadata": {},
   "outputs": [],
   "source": []
  }
 ],
 "metadata": {
  "kernelspec": {
   "display_name": "Python 3 (ipykernel)",
   "language": "python",
   "name": "python3"
  },
  "language_info": {
   "codemirror_mode": {
    "name": "ipython",
    "version": 3
   },
   "file_extension": ".py",
   "mimetype": "text/x-python",
   "name": "python",
   "nbconvert_exporter": "python",
   "pygments_lexer": "ipython3",
   "version": "3.9.12"
  }
 },
 "nbformat": 4,
 "nbformat_minor": 5
}
