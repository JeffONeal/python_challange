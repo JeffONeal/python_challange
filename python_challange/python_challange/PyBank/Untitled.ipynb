{
 "cells": [
  {
   "cell_type": "code",
   "execution_count": 14,
   "id": "4359bec4-ba27-4e8f-a194-61aa349a828f",
   "metadata": {},
   "outputs": [
    {
     "data": {
      "text/plain": [
       "PosixPath('budget_data.csv')"
      ]
     },
     "execution_count": 14,
     "metadata": {},
     "output_type": "execute_result"
    }
   ],
   "source": [
    "import csv\n",
    "\n",
    "from pathlib import Path\n",
    "budget_data = Path(\"budget_data.csv\")\n",
    "budget_data"
   ]
  },
  {
   "cell_type": "code",
   "execution_count": 15,
   "id": "d8b39c52-7d5a-49a5-8897-551369beaaf0",
   "metadata": {},
   "outputs": [],
   "source": [
    "count = 0\n",
    "total = 0\n",
    "average = 0\n",
    "minimum = 0\n",
    "maximum = 0\n",
    "net = 0\n",
    "change_list = []\n",
    "net_change = 0\n",
    "total_months = 0\n",
    "net_profit = 0\n",
    "net_change_list = []"
   ]
  },
  {
   "cell_type": "code",
   "execution_count": 16,
   "id": "5e6c6465-8cf5-410e-b6b1-7b00bfeea5d7",
   "metadata": {},
   "outputs": [
    {
     "ename": "StopIteration",
     "evalue": "",
     "output_type": "error",
     "traceback": [
      "\u001b[0;31m---------------------------------------------------------------------------\u001b[0m",
      "\u001b[0;31mStopIteration\u001b[0m                             Traceback (most recent call last)",
      "Input \u001b[0;32mIn [16]\u001b[0m, in \u001b[0;36m<cell line: 1>\u001b[0;34m()\u001b[0m\n\u001b[1;32m      2\u001b[0m reader \u001b[38;5;241m=\u001b[39m csv\u001b[38;5;241m.\u001b[39mreader(file)\n\u001b[1;32m      3\u001b[0m header \u001b[38;5;241m=\u001b[39m \u001b[38;5;28mnext\u001b[39m(reader)\n\u001b[0;32m----> 4\u001b[0m row1 \u001b[38;5;241m=\u001b[39m \u001b[38;5;28;43mnext\u001b[39;49m\u001b[43m(\u001b[49m\u001b[43mreader\u001b[49m\u001b[43m)\u001b[49m\n\u001b[1;32m      5\u001b[0m net_profit \u001b[38;5;241m=\u001b[39m net_profit \u001b[38;5;241m=\u001b[39m \u001b[38;5;28mint\u001b[39m(row1[\u001b[38;5;241m1\u001b[39m])\n\u001b[1;32m      6\u001b[0m previous_net \u001b[38;5;241m=\u001b[39m \u001b[38;5;28mint\u001b[39m(row1[\u001b[38;5;241m1\u001b[39m])\n",
      "\u001b[0;31mStopIteration\u001b[0m: "
     ]
    }
   ],
   "source": [
    "with open(budget_data) as file:\n",
    "    reader = csv.reader(file)\n",
    "    header = next(reader)\n",
    "    row1 = next(reader)\n",
    "    net_profit = net_profit = int(row1[1])\n",
    "    previous_net = int(row1[1])\n",
    "    \n",
    "    for row in reader:\n",
    "        total_months = total_months + 1\n",
    "        count += 1\n",
    "        net_profit = net_profit + int(row[1])\n",
    "        \n",
    "        net_change = int(row[1]) - previous_net\n",
    "        previous_net = int(row[1])\n",
    "        \n",
    "        print(net_change_list)"
   ]
  },
  {
   "cell_type": "code",
   "execution_count": 9,
   "id": "c7506a49-2c84-4397-9c7e-6ec0f8156d18",
   "metadata": {},
   "outputs": [
    {
     "ename": "ZeroDivisionError",
     "evalue": "division by zero",
     "output_type": "error",
     "traceback": [
      "\u001b[0;31m---------------------------------------------------------------------------\u001b[0m",
      "\u001b[0;31mZeroDivisionError\u001b[0m                         Traceback (most recent call last)",
      "Input \u001b[0;32mIn [9]\u001b[0m, in \u001b[0;36m<cell line: 1>\u001b[0;34m()\u001b[0m\n\u001b[0;32m----> 1\u001b[0m average_net_change \u001b[38;5;241m=\u001b[39m \u001b[38;5;28;43msum\u001b[39;49m\u001b[43m(\u001b[49m\u001b[43mnet_change_list\u001b[49m\u001b[43m)\u001b[49m\u001b[38;5;241;43m/\u001b[39;49m\u001b[38;5;28;43mlen\u001b[39;49m\u001b[43m(\u001b[49m\u001b[43mnet_change_list\u001b[49m\u001b[43m)\u001b[49m\n\u001b[1;32m      2\u001b[0m \u001b[38;5;28mprint\u001b[39m(aveage_net_change)\n",
      "\u001b[0;31mZeroDivisionError\u001b[0m: division by zero"
     ]
    }
   ],
   "source": [
    "average_net_change = sum(net_change_list)/len(net_change_list)\n",
    "print(aveage_net_change)"
   ]
  },
  {
   "cell_type": "code",
   "execution_count": 10,
   "id": "bc16ad35-a247-4167-b1b1-19a525b8c384",
   "metadata": {},
   "outputs": [
    {
     "ename": "ValueError",
     "evalue": "max() arg is an empty sequence",
     "output_type": "error",
     "traceback": [
      "\u001b[0;31m---------------------------------------------------------------------------\u001b[0m",
      "\u001b[0;31mValueError\u001b[0m                                Traceback (most recent call last)",
      "Input \u001b[0;32mIn [10]\u001b[0m, in \u001b[0;36m<cell line: 1>\u001b[0;34m()\u001b[0m\n\u001b[0;32m----> 1\u001b[0m \u001b[38;5;28;43mmax\u001b[39;49m\u001b[43m(\u001b[49m\u001b[43mnet_change_list\u001b[49m\u001b[43m)\u001b[49m\n",
      "\u001b[0;31mValueError\u001b[0m: max() arg is an empty sequence"
     ]
    }
   ],
   "source": [
    "max(net_change_list)"
   ]
  },
  {
   "cell_type": "code",
   "execution_count": 11,
   "id": "b840c88b-6b18-4b9f-8d26-8f6b848b9fc5",
   "metadata": {},
   "outputs": [
    {
     "ename": "ValueError",
     "evalue": "min() arg is an empty sequence",
     "output_type": "error",
     "traceback": [
      "\u001b[0;31m---------------------------------------------------------------------------\u001b[0m",
      "\u001b[0;31mValueError\u001b[0m                                Traceback (most recent call last)",
      "Input \u001b[0;32mIn [11]\u001b[0m, in \u001b[0;36m<cell line: 1>\u001b[0;34m()\u001b[0m\n\u001b[0;32m----> 1\u001b[0m \u001b[38;5;28;43mmin\u001b[39;49m\u001b[43m(\u001b[49m\u001b[43mnet_change_list\u001b[49m\u001b[43m)\u001b[49m\n",
      "\u001b[0;31mValueError\u001b[0m: min() arg is an empty sequence"
     ]
    }
   ],
   "source": [
    "min(net_change_list)"
   ]
  },
  {
   "cell_type": "code",
   "execution_count": 12,
   "id": "4a1a2f27-7e32-4847-a3c1-c74e66799947",
   "metadata": {},
   "outputs": [
    {
     "name": "stdout",
     "output_type": "stream",
     "text": [
      "--------Profit and Loss Summary---------\n",
      "Number of months: 1\n",
      "Total Profit/Loss: 0\n"
     ]
    },
    {
     "ename": "NameError",
     "evalue": "name 'average_net_change' is not defined",
     "output_type": "error",
     "traceback": [
      "\u001b[0;31m---------------------------------------------------------------------------\u001b[0m",
      "\u001b[0;31mNameError\u001b[0m                                 Traceback (most recent call last)",
      "Input \u001b[0;32mIn [12]\u001b[0m, in \u001b[0;36m<cell line: 4>\u001b[0;34m()\u001b[0m\n\u001b[1;32m      2\u001b[0m \u001b[38;5;28mprint\u001b[39m(\u001b[38;5;124mf\u001b[39m\u001b[38;5;124m\"\u001b[39m\u001b[38;5;124mNumber of months: \u001b[39m\u001b[38;5;132;01m{\u001b[39;00mcount \u001b[38;5;241m+\u001b[39m\u001b[38;5;241m1\u001b[39m\u001b[38;5;132;01m}\u001b[39;00m\u001b[38;5;124m\"\u001b[39m)\n\u001b[1;32m      3\u001b[0m \u001b[38;5;28mprint\u001b[39m(\u001b[38;5;124mf\u001b[39m\u001b[38;5;124m\"\u001b[39m\u001b[38;5;124mTotal Profit/Loss: \u001b[39m\u001b[38;5;132;01m{\u001b[39;00mnet_profit\u001b[38;5;132;01m}\u001b[39;00m\u001b[38;5;124m\"\u001b[39m)\n\u001b[0;32m----> 4\u001b[0m \u001b[38;5;28mprint\u001b[39m(\u001b[38;5;124mf\u001b[39m\u001b[38;5;124m\"\u001b[39m\u001b[38;5;124mAverage Change: \u001b[39m\u001b[38;5;132;01m{\u001b[39;00maverage_net_change\u001b[38;5;132;01m}\u001b[39;00m\u001b[38;5;124m\"\u001b[39m)\n\u001b[1;32m      5\u001b[0m \u001b[38;5;28mprint\u001b[39m(\u001b[38;5;124mf\u001b[39m\u001b[38;5;124m\"\u001b[39m\u001b[38;5;124mLargest Profit Increase: \u001b[39m\u001b[38;5;132;01m{\u001b[39;00m\u001b[38;5;28mmax\u001b[39m(net_change_list)\u001b[38;5;132;01m}\u001b[39;00m\u001b[38;5;124m\"\u001b[39m)\n\u001b[1;32m      6\u001b[0m \u001b[38;5;28mprint\u001b[39m(\u001b[38;5;124mf\u001b[39m\u001b[38;5;124m\"\u001b[39m\u001b[38;5;124mLargest Loss Decrease: \u001b[39m\u001b[38;5;132;01m{\u001b[39;00m\u001b[38;5;28mmin\u001b[39m(net_change_list)\u001b[38;5;132;01m}\u001b[39;00m\u001b[38;5;124m\"\u001b[39m)\n",
      "\u001b[0;31mNameError\u001b[0m: name 'average_net_change' is not defined"
     ]
    }
   ],
   "source": [
    "print(\"--------Profit and Loss Summary---------\")\n",
    "print(f\"Number of months: {count +1}\")\n",
    "print(f\"Total Profit/Loss: {net_profit}\")\n",
    "print(f\"Average Change: {average_net_change}\")\n",
    "print(f\"Largest Profit Increase: {max(net_change_list)}\")\n",
    "print(f\"Largest Loss Decrease: {min(net_change_list)}\")\n"
   ]
  },
  {
   "cell_type": "code",
   "execution_count": null,
   "id": "af39d620-cd87-4510-965c-dbc5bc52249f",
   "metadata": {},
   "outputs": [],
   "source": [
    "# Set output file \n",
    "output_path = 'budget_data.txt'\n",
    "\n",
    "# Open the output path as a file object\n",
    "with open(output_path, 'w') as file:\n",
    "    # Write daily_average to the output file, convert to string\n",
    "    file.write(f\"The total months of data was {count+1}, the total profit {net_profit}, the average change in profit and loss was {average_net_change}.  The largest profit in any month was {max(net_change_list)} and the largest loss in any month was {min(net_change_list)}\")\n"
   ]
  }
 ],
 "metadata": {
  "kernelspec": {
   "display_name": "Python 3 (ipykernel)",
   "language": "python",
   "name": "python3"
  },
  "language_info": {
   "codemirror_mode": {
    "name": "ipython",
    "version": 3
   },
   "file_extension": ".py",
   "mimetype": "text/x-python",
   "name": "python",
   "nbconvert_exporter": "python",
   "pygments_lexer": "ipython3",
   "version": "3.9.12"
  }
 },
 "nbformat": 4,
 "nbformat_minor": 5
}
