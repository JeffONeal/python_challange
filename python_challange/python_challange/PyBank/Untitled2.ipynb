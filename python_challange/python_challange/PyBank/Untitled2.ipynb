{
 "cells": [
  {
   "cell_type": "code",
   "execution_count": 1,
   "id": "c76835b5-b363-4ed5-b6c5-0d5343a328c2",
   "metadata": {},
   "outputs": [
    {
     "data": {
      "text/plain": [
       "PosixPath('budget_data.csv')"
      ]
     },
     "execution_count": 1,
     "metadata": {},
     "output_type": "execute_result"
    }
   ],
   "source": [
    "import csv\n",
    "\n",
    "from pathlib import Path\n",
    "budget_data = Path(\"budget_data.csv\")\n",
    "budget_data"
   ]
  },
  {
   "cell_type": "code",
   "execution_count": 2,
   "id": "3dd5df71-da7f-4293-8b64-d695dda45011",
   "metadata": {},
   "outputs": [],
   "source": [
    "count = 0\n",
    "total = 0\n",
    "average = 0\n",
    "minimum = 0\n",
    "maximum = 0\n",
    "net = 0\n",
    "change_list = []\n",
    "net_change = 0\n",
    "total_months = 0\n",
    "net_profit = 0\n",
    "net_change_list = []"
   ]
  },
  {
   "cell_type": "code",
   "execution_count": 3,
   "id": "0ce170c2-c33b-4628-ac05-b815c062d31e",
   "metadata": {},
   "outputs": [
    {
     "ename": "StopIteration",
     "evalue": "",
     "output_type": "error",
     "traceback": [
      "\u001b[0;31m---------------------------------------------------------------------------\u001b[0m",
      "\u001b[0;31mStopIteration\u001b[0m                             Traceback (most recent call last)",
      "Input \u001b[0;32mIn [3]\u001b[0m, in \u001b[0;36m<cell line: 1>\u001b[0;34m()\u001b[0m\n\u001b[1;32m      2\u001b[0m reader \u001b[38;5;241m=\u001b[39m csv\u001b[38;5;241m.\u001b[39mreader(file)\n\u001b[1;32m      3\u001b[0m header \u001b[38;5;241m=\u001b[39m \u001b[38;5;28mnext\u001b[39m(reader)\n\u001b[0;32m----> 4\u001b[0m row1 \u001b[38;5;241m=\u001b[39m \u001b[38;5;28;43mnext\u001b[39;49m\u001b[43m(\u001b[49m\u001b[43mreader\u001b[49m\u001b[43m)\u001b[49m\n\u001b[1;32m      5\u001b[0m net_profit \u001b[38;5;241m=\u001b[39m net_profit \u001b[38;5;241m+\u001b[39m \u001b[38;5;28mint\u001b[39m(row1[\u001b[38;5;241m1\u001b[39m])\n\u001b[1;32m      6\u001b[0m previous_net \u001b[38;5;241m=\u001b[39m \u001b[38;5;28mint\u001b[39m(row1[\u001b[38;5;241m1\u001b[39m])\n",
      "\u001b[0;31mStopIteration\u001b[0m: "
     ]
    }
   ],
   "source": [
    "with open(budget_data) as file:\n",
    "    reader = csv.reader(file)\n",
    "    header = next(reader)\n",
    "    row1 = next(reader)\n",
    "    net_profit = net_profit + int(row1[1])\n",
    "    previous_net = int(row1[1])"
   ]
  },
  {
   "cell_type": "code",
   "execution_count": null,
   "id": "e30a215d-4bae-4bba-8ae7-c205625132cd",
   "metadata": {},
   "outputs": [],
   "source": []
  }
 ],
 "metadata": {
  "kernelspec": {
   "display_name": "Python 3 (ipykernel)",
   "language": "python",
   "name": "python3"
  },
  "language_info": {
   "codemirror_mode": {
    "name": "ipython",
    "version": 3
   },
   "file_extension": ".py",
   "mimetype": "text/x-python",
   "name": "python",
   "nbconvert_exporter": "python",
   "pygments_lexer": "ipython3",
   "version": "3.9.12"
  }
 },
 "nbformat": 4,
 "nbformat_minor": 5
}
