{
 "cells": [
  {
   "cell_type": "code",
   "execution_count": 94,
   "id": "87074fa6-1582-4908-b693-2ae974a527e2",
   "metadata": {},
   "outputs": [
    {
     "data": {
      "text/plain": [
       "PosixPath('budget_data.csv')"
      ]
     },
     "execution_count": 94,
     "metadata": {},
     "output_type": "execute_result"
    }
   ],
   "source": [
    "#import budget data information into python to be manipulated\n",
    "import csv\n",
    "\n",
    "from pathlib import Path\n",
    "budget_data = Path(\"budget_data.csv\")\n",
    "budget_data "
   ]
  },
  {
   "cell_type": "code",
   "execution_count": 95,
   "id": "bcda5fe5-8cd1-4074-a38b-bee5cc4cc1c9",
   "metadata": {},
   "outputs": [],
   "source": [
    "# define variables\n",
    "count = 0\n",
    "total = 0\n",
    "average = 0\n",
    "maximium = 0\n",
    "minimum = 0\n",
    "net = 0\n",
    "change_list = []\n",
    "net_change = 0"
   ]
  },
  {
   "cell_type": "code",
   "execution_count": 96,
   "id": "646306c7-db33-49b5-b061-02e3960d2113",
   "metadata": {},
   "outputs": [],
   "source": [
    "count = 0\n",
    "total = 0\n",
    "average = 0\n",
    "minimum = 0\n",
    "maximum = 0\n",
    "net = 0\n",
    "change_list = []\n",
    "net_change = 0\n",
    "total_months = 0\n",
    "net_profit = 0\n",
    "net_change_list = []"
   ]
  },
  {
   "cell_type": "code",
   "execution_count": 97,
   "id": "9b70cbc0-153c-4eb3-bd71-125b045b7ff1",
   "metadata": {},
   "outputs": [
    {
     "ename": "StopIteration",
     "evalue": "",
     "output_type": "error",
     "traceback": [
      "\u001b[0;31m---------------------------------------------------------------------------\u001b[0m",
      "\u001b[0;31mStopIteration\u001b[0m                             Traceback (most recent call last)",
      "Input \u001b[0;32mIn [97]\u001b[0m, in \u001b[0;36m<cell line: 1>\u001b[0;34m()\u001b[0m\n\u001b[1;32m      2\u001b[0m reader \u001b[38;5;241m=\u001b[39m csv\u001b[38;5;241m.\u001b[39mreader(file)\n\u001b[1;32m      3\u001b[0m header \u001b[38;5;241m=\u001b[39m \u001b[38;5;28mnext\u001b[39m(reader)\n\u001b[0;32m----> 4\u001b[0m row1 \u001b[38;5;241m=\u001b[39m \u001b[38;5;28;43mnext\u001b[39;49m\u001b[43m(\u001b[49m\u001b[43mreader\u001b[49m\u001b[43m)\u001b[49m\n\u001b[1;32m      5\u001b[0m net_profit \u001b[38;5;241m=\u001b[39m net_profit \u001b[38;5;241m+\u001b[39m \u001b[38;5;28mint\u001b[39m(row1[\u001b[38;5;241m1\u001b[39m])\n\u001b[1;32m      6\u001b[0m previous_net \u001b[38;5;241m=\u001b[39m \u001b[38;5;28mint\u001b[39m(row1[\u001b[38;5;241m1\u001b[39m])\n",
      "\u001b[0;31mStopIteration\u001b[0m: "
     ]
    }
   ],
   "source": [
    "with open(budget_data) as file:\n",
    "    reader = csv.reader(file)\n",
    "    header = next(reader)\n",
    "    row1 = next(reader)\n",
    "    net_profit = net_profit + int(row1[1])\n",
    "    previous_net = int(row1[1])\n",
    "    \n",
    "\n",
    "    for row in reader:\n",
    "        total_months = total_months + 1\n",
    "        count += 1\n",
    "        net_profit = net_profit + int(row[1])\n",
    "   \n",
    "    \n",
    "        # calculating monthly change average\n",
    "        net_change = int(row[1]) - previous_net\n",
    "        previous_net = int(row[1])\n",
    "        net_change_list = net_change_list + [net_change]\n",
    "\n",
    "        print(net_change_list)\n"
   ]
  },
  {
   "cell_type": "code",
   "execution_count": 51,
   "id": "ded52cd4-ba1d-4154-803c-7d1b39c5058d",
   "metadata": {},
   "outputs": [
    {
     "name": "stdout",
     "output_type": "stream",
     "text": [
      "        Date  Profit/Losses\n",
      "0   Jan-2010         867884\n",
      "1   Feb-2010         984655\n",
      "2   Mar-2010         322013\n",
      "3   Apr-2010         -69417\n",
      "4   May-2010         310503\n",
      "..       ...            ...\n",
      "81  Oct-2016         102685\n",
      "82  Nov-2016         795914\n",
      "83  Dec-2016          60988\n",
      "84  Jan-2017         138230\n",
      "85  Feb-2017         671099\n",
      "\n",
      "[86 rows x 2 columns]\n"
     ]
    }
   ],
   "source": [
    "import pandas as pd\n",
    "df = pd.read_csv (r'budget_data.csv')\n",
    "print (df)"
   ]
  },
  {
   "cell_type": "code",
   "execution_count": 52,
   "id": "99ba4870-e70a-4daa-93f2-d2df03b58dc8",
   "metadata": {},
   "outputs": [
    {
     "name": "stdout",
     "output_type": "stream",
     "text": [
      "38382578\n"
     ]
    }
   ],
   "source": [
    "# using panda code to calculate sum of profit/losses column\n",
    "\n",
    "sum1 = df['Profit/Losses'].sum()\n",
    "print(sum1)"
   ]
  },
  {
   "cell_type": "code",
   "execution_count": 93,
   "id": "ba606d48-2296-4dd7-bbc3-328dc91beb9d",
   "metadata": {},
   "outputs": [
    {
     "name": "stdout",
     "output_type": "stream",
     "text": [
      "567769.2588235295\n",
      "2196167.0\n",
      "37864.0\n"
     ]
    }
   ],
   "source": [
    "# calculating monthly change average\n",
    "\n",
    "df['net_change'] = df['Profit/Losses'].shift(1)\n",
    "\n",
    "df['difference'] = df ['net_change'] - df ['Profit/Losses']\n",
    "\n",
    "df['difference'] = df['difference'].abs()\n",
    "\n",
    "average = df['difference'].mean()\n",
    "maximum = df['difference'].max()\n",
    "minimum = df['difference'].min()\n",
    "\n",
    "print(average)\n",
    "print(maximum)\n",
    "print(minimum)"
   ]
  },
  {
   "cell_type": "code",
   "execution_count": 88,
   "id": "fc6661db-a0b3-4c8a-82b7-a2e48f1c482c",
   "metadata": {},
   "outputs": [
    {
     "ename": "TypeError",
     "evalue": "'<' not supported between instances of 'list' and 'float'",
     "output_type": "error",
     "traceback": [
      "\u001b[0;31m---------------------------------------------------------------------------\u001b[0m",
      "\u001b[0;31mTypeError\u001b[0m                                 Traceback (most recent call last)",
      "Input \u001b[0;32mIn [88]\u001b[0m, in \u001b[0;36m<cell line: 3>\u001b[0;34m()\u001b[0m\n\u001b[1;32m      3\u001b[0m \u001b[38;5;28;01mif\u001b[39;00m minimum \u001b[38;5;241m==\u001b[39m \u001b[38;5;241m0\u001b[39m:\n\u001b[1;32m      4\u001b[0m     minimum \u001b[38;5;241m=\u001b[39m loss\n\u001b[0;32m----> 5\u001b[0m \u001b[38;5;28;01melif\u001b[39;00m \u001b[43m[\u001b[49m\u001b[38;5;241;43m1\u001b[39;49m\u001b[43m]\u001b[49m\u001b[43m \u001b[49m\u001b[38;5;241;43m<\u001b[39;49m\u001b[43m \u001b[49m\u001b[43mminimum\u001b[49m:\n\u001b[1;32m      6\u001b[0m     minimum \u001b[38;5;241m=\u001b[39m Loss\n\u001b[1;32m      8\u001b[0m \u001b[38;5;28;01mif\u001b[39;00m maximum \u001b[38;5;241m==\u001b[39m \u001b[38;5;241m0\u001b[39m:\n",
      "\u001b[0;31mTypeError\u001b[0m: '<' not supported between instances of 'list' and 'float'"
     ]
    }
   ],
   "source": [
    "# max/min change\n",
    "\n",
    "if minimum == 0:\n",
    "    minimum = loss\n",
    "elif [1] < minimum:\n",
    "    minimum = Loss\n",
    "            \n",
    "if maximum == 0:\n",
    "    maximum = profit\n",
    "elif [1] > maximum:\n",
    "    maximum = profit\n",
    "print(minimum)\n",
    "print(maximum)"
   ]
  },
  {
   "cell_type": "code",
   "execution_count": null,
   "id": "4070cd82-ff17-4d72-82c7-2027404f6b9c",
   "metadata": {},
   "outputs": [],
   "source": []
  }
 ],
 "metadata": {
  "kernelspec": {
   "display_name": "Python 3 (ipykernel)",
   "language": "python",
   "name": "python3"
  },
  "language_info": {
   "codemirror_mode": {
    "name": "ipython",
    "version": 3
   },
   "file_extension": ".py",
   "mimetype": "text/x-python",
   "name": "python",
   "nbconvert_exporter": "python",
   "pygments_lexer": "ipython3",
   "version": "3.9.12"
  }
 },
 "nbformat": 4,
 "nbformat_minor": 5
}
