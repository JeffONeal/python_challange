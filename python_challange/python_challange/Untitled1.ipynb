{
 "cells": [
  {
   "cell_type": "code",
   "execution_count": 1,
   "id": "a023b4de-30fb-48bc-81d9-e3b7ec4e195e",
   "metadata": {},
   "outputs": [],
   "source": [
    "#import libraries\n",
    "from pathlib import Path\n",
    "import csv"
   ]
  },
  {
   "cell_type": "code",
   "execution_count": 2,
   "id": "7a4c46d0-dad7-4be7-95ba-c79c6dce6c29",
   "metadata": {},
   "outputs": [],
   "source": [
    "# set path of my file\n",
    "csvpath =Path('../Resources/accounting.csv')\n",
    "# should read \"WindowsPath('../Resources/accounting.csv')"
   ]
  },
  {
   "cell_type": "code",
   "execution_count": null,
   "id": "49f9e91b-b09b-4b29-9867-a3ef845ac736",
   "metadata": {},
   "outputs": [],
   "source": []
  }
 ],
 "metadata": {
  "kernelspec": {
   "display_name": "Python 3 (ipykernel)",
   "language": "python",
   "name": "python3"
  },
  "language_info": {
   "codemirror_mode": {
    "name": "ipython",
    "version": 3
   },
   "file_extension": ".py",
   "mimetype": "text/x-python",
   "name": "python",
   "nbconvert_exporter": "python",
   "pygments_lexer": "ipython3",
   "version": "3.9.12"
  }
 },
 "nbformat": 4,
 "nbformat_minor": 5
}
